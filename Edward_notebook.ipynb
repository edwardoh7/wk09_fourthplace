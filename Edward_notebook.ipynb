{
 "cells": [
  {
   "cell_type": "code",
   "execution_count": 1,
   "metadata": {},
   "outputs": [],
   "source": [
    "import pandas as pd\n",
    "from matplotlib import pyplot as plt\n",
    "from sklearn.model_selection import train_test_split\n",
    "from sklearn import tree\n",
    "\n",
    "df = pd.read_csv(r'Data\\Sport car price.csv')"
   ]
  },
  {
   "cell_type": "code",
   "execution_count": 2,
   "metadata": {},
   "outputs": [],
   "source": [
    "pd.set_option('display.max_rows', None)"
   ]
  },
  {
   "cell_type": "code",
   "execution_count": 3,
   "metadata": {},
   "outputs": [
    {
     "data": {
      "text/plain": [
       "Car Make                    0\n",
       "Car Model                   0\n",
       "Year                        0\n",
       "Engine Size (L)            10\n",
       "Horsepower                  0\n",
       "Torque (lb-ft)              3\n",
       "0-60 MPH Time (seconds)     0\n",
       "Price (in USD)              0\n",
       "dtype: int64"
      ]
     },
     "execution_count": 3,
     "metadata": {},
     "output_type": "execute_result"
    }
   ],
   "source": [
    "df.isna().sum()"
   ]
  },
  {
   "cell_type": "code",
   "execution_count": 4,
   "metadata": {},
   "outputs": [
    {
     "data": {
      "text/html": [
       "<div>\n",
       "<style scoped>\n",
       "    .dataframe tbody tr th:only-of-type {\n",
       "        vertical-align: middle;\n",
       "    }\n",
       "\n",
       "    .dataframe tbody tr th {\n",
       "        vertical-align: top;\n",
       "    }\n",
       "\n",
       "    .dataframe thead th {\n",
       "        text-align: right;\n",
       "    }\n",
       "</style>\n",
       "<table border=\"1\" class=\"dataframe\">\n",
       "  <thead>\n",
       "    <tr style=\"text-align: right;\">\n",
       "      <th></th>\n",
       "      <th>Car Make</th>\n",
       "      <th>Car Model</th>\n",
       "      <th>Year</th>\n",
       "      <th>Engine Size (L)</th>\n",
       "      <th>Horsepower</th>\n",
       "      <th>Torque (lb-ft)</th>\n",
       "      <th>0-60 MPH Time (seconds)</th>\n",
       "      <th>Price (in USD)</th>\n",
       "    </tr>\n",
       "  </thead>\n",
       "  <tbody>\n",
       "    <tr>\n",
       "      <th>168</th>\n",
       "      <td>Rimac</td>\n",
       "      <td>C_Two</td>\n",
       "      <td>2022</td>\n",
       "      <td>NaN</td>\n",
       "      <td>1914</td>\n",
       "      <td>1696</td>\n",
       "      <td>1.9</td>\n",
       "      <td>2,400,000</td>\n",
       "    </tr>\n",
       "    <tr>\n",
       "      <th>171</th>\n",
       "      <td>Tesla</td>\n",
       "      <td>Model S Plaid</td>\n",
       "      <td>2021</td>\n",
       "      <td>NaN</td>\n",
       "      <td>1020</td>\n",
       "      <td>1050</td>\n",
       "      <td>1.98</td>\n",
       "      <td>131,190</td>\n",
       "    </tr>\n",
       "    <tr>\n",
       "      <th>222</th>\n",
       "      <td>Porsche</td>\n",
       "      <td>Taycan Turbo S</td>\n",
       "      <td>2021</td>\n",
       "      <td>NaN</td>\n",
       "      <td>750</td>\n",
       "      <td>774</td>\n",
       "      <td>2.6</td>\n",
       "      <td>185,000</td>\n",
       "    </tr>\n",
       "    <tr>\n",
       "      <th>247</th>\n",
       "      <td>Tesla</td>\n",
       "      <td>Model S Plaid</td>\n",
       "      <td>2022</td>\n",
       "      <td>NaN</td>\n",
       "      <td>1020</td>\n",
       "      <td>1050</td>\n",
       "      <td>1.9</td>\n",
       "      <td>131,190</td>\n",
       "    </tr>\n",
       "    <tr>\n",
       "      <th>387</th>\n",
       "      <td>Rimac</td>\n",
       "      <td>C_Two</td>\n",
       "      <td>2022</td>\n",
       "      <td>NaN</td>\n",
       "      <td>1888</td>\n",
       "      <td>1696</td>\n",
       "      <td>1.8</td>\n",
       "      <td>2,400,000</td>\n",
       "    </tr>\n",
       "    <tr>\n",
       "      <th>389</th>\n",
       "      <td>Tesla</td>\n",
       "      <td>Roadster</td>\n",
       "      <td>2022</td>\n",
       "      <td>NaN</td>\n",
       "      <td>10000+</td>\n",
       "      <td>0</td>\n",
       "      <td>1.9</td>\n",
       "      <td>200,000</td>\n",
       "    </tr>\n",
       "    <tr>\n",
       "      <th>642</th>\n",
       "      <td>Tesla</td>\n",
       "      <td>Model S Plaid</td>\n",
       "      <td>2021</td>\n",
       "      <td>Electric</td>\n",
       "      <td>1020</td>\n",
       "      <td>NaN</td>\n",
       "      <td>1.9</td>\n",
       "      <td>139,990</td>\n",
       "    </tr>\n",
       "    <tr>\n",
       "      <th>686</th>\n",
       "      <td>Rimac</td>\n",
       "      <td>C_Two</td>\n",
       "      <td>2022</td>\n",
       "      <td>NaN</td>\n",
       "      <td>1914</td>\n",
       "      <td>1696</td>\n",
       "      <td>1.85</td>\n",
       "      <td>2,400,000</td>\n",
       "    </tr>\n",
       "    <tr>\n",
       "      <th>697</th>\n",
       "      <td>Lotus</td>\n",
       "      <td>Evija</td>\n",
       "      <td>2022</td>\n",
       "      <td>NaN</td>\n",
       "      <td>1972</td>\n",
       "      <td>1254</td>\n",
       "      <td>2.5</td>\n",
       "      <td>2,700,000</td>\n",
       "    </tr>\n",
       "    <tr>\n",
       "      <th>752</th>\n",
       "      <td>Porsche</td>\n",
       "      <td>Taycan</td>\n",
       "      <td>2022</td>\n",
       "      <td>NaN</td>\n",
       "      <td>469</td>\n",
       "      <td>479</td>\n",
       "      <td>3.8</td>\n",
       "      <td>79,900</td>\n",
       "    </tr>\n",
       "    <tr>\n",
       "      <th>878</th>\n",
       "      <td>Maserati</td>\n",
       "      <td>GranTurismo</td>\n",
       "      <td>2021</td>\n",
       "      <td>Electric</td>\n",
       "      <td>550</td>\n",
       "      <td>NaN</td>\n",
       "      <td>2.8</td>\n",
       "      <td>200,000</td>\n",
       "    </tr>\n",
       "    <tr>\n",
       "      <th>916</th>\n",
       "      <td>Tesla</td>\n",
       "      <td>Roadster</td>\n",
       "      <td>2022</td>\n",
       "      <td>NaN</td>\n",
       "      <td>10,000+</td>\n",
       "      <td>NaN</td>\n",
       "      <td>1.9</td>\n",
       "      <td>200,000</td>\n",
       "    </tr>\n",
       "  </tbody>\n",
       "</table>\n",
       "</div>"
      ],
      "text/plain": [
       "     Car Make       Car Model  Year Engine Size (L) Horsepower Torque (lb-ft)  \\\n",
       "168     Rimac           C_Two  2022             NaN       1914           1696   \n",
       "171     Tesla   Model S Plaid  2021             NaN       1020           1050   \n",
       "222   Porsche  Taycan Turbo S  2021             NaN        750            774   \n",
       "247     Tesla   Model S Plaid  2022             NaN       1020           1050   \n",
       "387     Rimac           C_Two  2022             NaN       1888           1696   \n",
       "389     Tesla        Roadster  2022             NaN     10000+              0   \n",
       "642     Tesla   Model S Plaid  2021        Electric       1020            NaN   \n",
       "686     Rimac           C_Two  2022             NaN       1914           1696   \n",
       "697     Lotus           Evija  2022             NaN       1972           1254   \n",
       "752   Porsche          Taycan  2022             NaN        469            479   \n",
       "878  Maserati     GranTurismo  2021        Electric        550            NaN   \n",
       "916     Tesla        Roadster  2022             NaN    10,000+            NaN   \n",
       "\n",
       "    0-60 MPH Time (seconds) Price (in USD)  \n",
       "168                     1.9      2,400,000  \n",
       "171                    1.98        131,190  \n",
       "222                     2.6        185,000  \n",
       "247                     1.9        131,190  \n",
       "387                     1.8      2,400,000  \n",
       "389                     1.9        200,000  \n",
       "642                     1.9        139,990  \n",
       "686                    1.85      2,400,000  \n",
       "697                     2.5      2,700,000  \n",
       "752                     3.8         79,900  \n",
       "878                     2.8        200,000  \n",
       "916                     1.9        200,000  "
      ]
     },
     "execution_count": 4,
     "metadata": {},
     "output_type": "execute_result"
    }
   ],
   "source": [
    "#finding rows with null values\n",
    "df[df.isna().any(axis=1)]"
   ]
  },
  {
   "attachments": {},
   "cell_type": "markdown",
   "metadata": {},
   "source": [
    "### Dropping rows where Engine Size and Torque is NaN."
   ]
  },
  {
   "cell_type": "code",
   "execution_count": 5,
   "metadata": {},
   "outputs": [],
   "source": [
    "df=df.dropna(subset=['Engine Size (L)','Torque (lb-ft)'])"
   ]
  },
  {
   "cell_type": "code",
   "execution_count": 6,
   "metadata": {},
   "outputs": [
    {
     "data": {
      "text/plain": [
       "Car Make                   0\n",
       "Car Model                  0\n",
       "Year                       0\n",
       "Engine Size (L)            0\n",
       "Horsepower                 0\n",
       "Torque (lb-ft)             0\n",
       "0-60 MPH Time (seconds)    0\n",
       "Price (in USD)             0\n",
       "dtype: int64"
      ]
     },
     "execution_count": 6,
     "metadata": {},
     "output_type": "execute_result"
    }
   ],
   "source": [
    "df.isna().sum()"
   ]
  },
  {
   "attachments": {},
   "cell_type": "markdown",
   "metadata": {},
   "source": [
    "### Dropping all electric and Hybrid cars"
   ]
  },
  {
   "cell_type": "code",
   "execution_count": 7,
   "metadata": {},
   "outputs": [],
   "source": [
    "df = df.loc[~df['Engine Size (L)'].str.contains('Electric|Hybrid')]"
   ]
  },
  {
   "attachments": {},
   "cell_type": "markdown",
   "metadata": {},
   "source": [
    "### replaceing all commas, + and - for easier datatype conversions"
   ]
  },
  {
   "cell_type": "code",
   "execution_count": 8,
   "metadata": {},
   "outputs": [
    {
     "name": "stderr",
     "output_type": "stream",
     "text": [
      "C:\\Users\\edwar\\AppData\\Local\\Temp\\ipykernel_4728\\1704719958.py:1: FutureWarning: The default value of regex will change from True to False in a future version.\n",
      "  df['Horsepower'] = df['Horsepower'].str.replace('[+,-,]', '')\n",
      "C:\\Users\\edwar\\AppData\\Local\\Temp\\ipykernel_4728\\1704719958.py:2: FutureWarning: The default value of regex will change from True to False in a future version.\n",
      "  df['Torque (lb-ft)'] = df['Torque (lb-ft)'].str.replace('[+,-,]', '')\n",
      "C:\\Users\\edwar\\AppData\\Local\\Temp\\ipykernel_4728\\1704719958.py:3: FutureWarning: The default value of regex will change from True to False in a future version.\n",
      "  df['Price (in USD)'] = df['Price (in USD)'].str.replace('[+,-,]', '')\n"
     ]
    }
   ],
   "source": [
    "df['Horsepower'] = df['Horsepower'].str.replace('[+,-,]', '')\n",
    "df['Torque (lb-ft)'] = df['Torque (lb-ft)'].str.replace('[+,-,]', '')\n",
    "df['Price (in USD)'] = df['Price (in USD)'].str.replace('[+,-,]', '')"
   ]
  },
  {
   "cell_type": "code",
   "execution_count": 9,
   "metadata": {},
   "outputs": [],
   "source": [
    "df =df.drop(index=335) #torque value is missing. dropping that row"
   ]
  },
  {
   "cell_type": "code",
   "execution_count": 10,
   "metadata": {},
   "outputs": [
    {
     "data": {
      "text/plain": [
       "(948, 8)"
      ]
     },
     "execution_count": 10,
     "metadata": {},
     "output_type": "execute_result"
    }
   ],
   "source": [
    "df.shape"
   ]
  },
  {
   "attachments": {},
   "cell_type": "markdown",
   "metadata": {},
   "source": [
    "### Changing Datatypes of columns"
   ]
  },
  {
   "cell_type": "code",
   "execution_count": 11,
   "metadata": {},
   "outputs": [],
   "source": [
    "df = df.astype({'Engine Size (L)':'float','Horsepower': 'int64', 'Torque (lb-ft)': 'int64', '0-60 MPH Time (seconds)': 'float', 'Price (in USD)': 'int64'})"
   ]
  },
  {
   "cell_type": "code",
   "execution_count": 12,
   "metadata": {},
   "outputs": [
    {
     "data": {
      "text/plain": [
       "Car Make                    object\n",
       "Car Model                   object\n",
       "Year                         int64\n",
       "Engine Size (L)            float64\n",
       "Horsepower                   int64\n",
       "Torque (lb-ft)               int64\n",
       "0-60 MPH Time (seconds)    float64\n",
       "Price (in USD)               int64\n",
       "dtype: object"
      ]
     },
     "execution_count": 12,
     "metadata": {},
     "output_type": "execute_result"
    }
   ],
   "source": [
    "df.dtypes #sanity check"
   ]
  },
  {
   "attachments": {},
   "cell_type": "markdown",
   "metadata": {},
   "source": [
    "### convert Dollars to $1000s"
   ]
  },
  {
   "cell_type": "code",
   "execution_count": 13,
   "metadata": {},
   "outputs": [],
   "source": [
    "df['Price (in USD $1000)'] = df['Price (in USD)'] / 1000\n",
    "df = df.drop(columns='Price (in USD)')"
   ]
  },
  {
   "attachments": {},
   "cell_type": "markdown",
   "metadata": {},
   "source": [
    "### initial data-analysis and visualizations"
   ]
  },
  {
   "cell_type": "code",
   "execution_count": 14,
   "metadata": {},
   "outputs": [
    {
     "data": {
      "text/html": [
       "<div>\n",
       "<style scoped>\n",
       "    .dataframe tbody tr th:only-of-type {\n",
       "        vertical-align: middle;\n",
       "    }\n",
       "\n",
       "    .dataframe tbody tr th {\n",
       "        vertical-align: top;\n",
       "    }\n",
       "\n",
       "    .dataframe thead th {\n",
       "        text-align: right;\n",
       "    }\n",
       "</style>\n",
       "<table border=\"1\" class=\"dataframe\">\n",
       "  <thead>\n",
       "    <tr style=\"text-align: right;\">\n",
       "      <th></th>\n",
       "      <th>Engine Size (L)</th>\n",
       "      <th>Horsepower</th>\n",
       "      <th>Torque (lb-ft)</th>\n",
       "      <th>0-60 MPH Time (seconds)</th>\n",
       "      <th>Price (in USD $1000)</th>\n",
       "    </tr>\n",
       "  </thead>\n",
       "  <tbody>\n",
       "    <tr>\n",
       "      <th>count</th>\n",
       "      <td>948.000000</td>\n",
       "      <td>948.000000</td>\n",
       "      <td>948.000000</td>\n",
       "      <td>948.000000</td>\n",
       "      <td>948.000000</td>\n",
       "    </tr>\n",
       "    <tr>\n",
       "      <th>mean</th>\n",
       "      <td>4.395781</td>\n",
       "      <td>603.325949</td>\n",
       "      <td>519.694093</td>\n",
       "      <td>3.586920</td>\n",
       "      <td>342.768959</td>\n",
       "    </tr>\n",
       "    <tr>\n",
       "      <th>std</th>\n",
       "      <td>1.398801</td>\n",
       "      <td>382.482684</td>\n",
       "      <td>285.783466</td>\n",
       "      <td>0.724134</td>\n",
       "      <td>690.903793</td>\n",
       "    </tr>\n",
       "    <tr>\n",
       "      <th>min</th>\n",
       "      <td>0.000000</td>\n",
       "      <td>181.000000</td>\n",
       "      <td>151.000000</td>\n",
       "      <td>1.900000</td>\n",
       "      <td>25.000000</td>\n",
       "    </tr>\n",
       "    <tr>\n",
       "      <th>25%</th>\n",
       "      <td>3.500000</td>\n",
       "      <td>454.000000</td>\n",
       "      <td>398.000000</td>\n",
       "      <td>3.000000</td>\n",
       "      <td>70.471250</td>\n",
       "    </tr>\n",
       "    <tr>\n",
       "      <th>50%</th>\n",
       "      <td>4.000000</td>\n",
       "      <td>583.000000</td>\n",
       "      <td>505.000000</td>\n",
       "      <td>3.500000</td>\n",
       "      <td>121.750000</td>\n",
       "    </tr>\n",
       "    <tr>\n",
       "      <th>75%</th>\n",
       "      <td>5.200000</td>\n",
       "      <td>660.000000</td>\n",
       "      <td>590.000000</td>\n",
       "      <td>4.000000</td>\n",
       "      <td>240.250000</td>\n",
       "    </tr>\n",
       "    <tr>\n",
       "      <th>max</th>\n",
       "      <td>8.400000</td>\n",
       "      <td>10000.000000</td>\n",
       "      <td>7376.000000</td>\n",
       "      <td>6.500000</td>\n",
       "      <td>5200.000000</td>\n",
       "    </tr>\n",
       "  </tbody>\n",
       "</table>\n",
       "</div>"
      ],
      "text/plain": [
       "       Engine Size (L)    Horsepower  Torque (lb-ft)  0-60 MPH Time (seconds)  \\\n",
       "count       948.000000    948.000000      948.000000               948.000000   \n",
       "mean          4.395781    603.325949      519.694093                 3.586920   \n",
       "std           1.398801    382.482684      285.783466                 0.724134   \n",
       "min           0.000000    181.000000      151.000000                 1.900000   \n",
       "25%           3.500000    454.000000      398.000000                 3.000000   \n",
       "50%           4.000000    583.000000      505.000000                 3.500000   \n",
       "75%           5.200000    660.000000      590.000000                 4.000000   \n",
       "max           8.400000  10000.000000     7376.000000                 6.500000   \n",
       "\n",
       "       Price (in USD $1000)  \n",
       "count            948.000000  \n",
       "mean             342.768959  \n",
       "std              690.903793  \n",
       "min               25.000000  \n",
       "25%               70.471250  \n",
       "50%              121.750000  \n",
       "75%              240.250000  \n",
       "max             5200.000000  "
      ]
     },
     "execution_count": 14,
     "metadata": {},
     "output_type": "execute_result"
    }
   ],
   "source": [
    "df[['Engine Size (L)', 'Horsepower', 'Torque (lb-ft)', '0-60 MPH Time (seconds)', 'Price (in USD $1000)']].describe()"
   ]
  },
  {
   "cell_type": "code",
   "execution_count": 15,
   "metadata": {},
   "outputs": [],
   "source": [
    "#Drop outlier of horsepower >2000, Torque >2000\n",
    "indexAge = df[ (df['Horsepower'] > 2000) | (df['Torque (lb-ft)'] > 2000) ].index\n",
    "df.drop(indexAge , inplace=True)"
   ]
  },
  {
   "cell_type": "code",
   "execution_count": 16,
   "metadata": {},
   "outputs": [
    {
     "data": {
      "image/png": "[encoded data removed]",
      "text/plain": [
       "<Figure size 2500x500 with 4 Axes>"
      ]
     },
     "metadata": {},
     "output_type": "display_data"
    }
   ],
   "source": [
    "y = df['Price (in USD $1000)']\n",
    "fig, ax = plt.subplots(1,4, figsize = (25,5))\n",
    "ax[0].scatter(df['Engine Size (L)'], y)\n",
    "ax[0].set_xlabel('Engine Size (L)')\n",
    "ax[0].set_ylabel('Price (in USD $1000)')\n",
    "ax[1].scatter(df['Horsepower'], y)\n",
    "ax[1].set_xlabel('Horsepower')\n",
    "ax[1].set_ylabel('Price (in USD $1000)')\n",
    "ax[2].scatter(df['Torque (lb-ft)'], y)\n",
    "ax[2].set_xlabel('Torque (lb-ft)')\n",
    "ax[2].set_ylabel('Price (in USD $1000)')\n",
    "ax[3].scatter(df['0-60 MPH Time (seconds)'], y)\n",
    "ax[3].set_xlabel('0-60 MPH Time (seconds)')\n",
    "ax[3].set_ylabel('Price (in USD $1000)')\n",
    "fig.tight_layout(pad=1)\n",
    "plt.show()"
   ]
  }
 ],
 "metadata": {
  "kernelspec": {
   "display_name": "base",
   "language": "python",
   "name": "python3"
  },
  "language_info": {
   "codemirror_mode": {
    "name": "ipython",
    "version": 3
   },
   "file_extension": ".py",
   "mimetype": "text/x-python",
   "name": "python",
   "nbconvert_exporter": "python",
   "pygments_lexer": "ipython3",
   "version": "3.9.13"
  },
  "orig_nbformat": 4
 },
 "nbformat": 4,
 "nbformat_minor": 2
}
